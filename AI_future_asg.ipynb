{
  "nbformat": 4,
  "nbformat_minor": 0,
  "metadata": {
    "colab": {
      "provenance": []
    },
    "kernelspec": {
      "name": "python3",
      "display_name": "Python 3"
    },
    "language_info": {
      "name": "python"
    }
  },
  "cells": [
    {
      "cell_type": "code",
      "execution_count": null,
      "metadata": {
        "id": "AzeUL39B8Jzy"
      },
      "outputs": [],
      "source": [
        "# Install dependencies\n",
        "!pip install tensorflow tensorflow_datasets\n",
        "\n",
        "# Imports\n",
        "import tensorflow as tf\n",
        "from tensorflow.keras import layers, models\n",
        "import numpy as np\n",
        "import matplotlib.pyplot as plt\n",
        "\n",
        "# Load sample dataset (placeholder for recyclables vs. non-recyclables)\n",
        "(train_images, train_labels), (test_images, test_labels) = tf.keras.datasets.cifar10.load_data()\n",
        "\n",
        "# Simplify to two classes: 1 = automobile (recyclable), 9 = truck (non-recyclable)\n",
        "train_filter = np.where((train_labels == 1) | (train_labels == 9))\n",
        "test_filter = np.where((test_labels == 1) | (test_labels == 9))\n",
        "\n",
        "x_train = train_images[train_filter]\n",
        "y_train = train_labels[train_filter]\n",
        "x_test = test_images[test_filter]\n",
        "y_test = test_labels[test_filter]\n",
        "\n",
        "y_train = (y_train == 1).astype(int)  # 1 = recyclable, 0 = non-recyclable\n",
        "y_test = (y_test == 1).astype(int)\n",
        "\n",
        "# Normalize data\n",
        "x_train, x_test = x_train / 255.0, x_test / 255.0\n",
        "\n",
        "# Build CNN\n",
        "model = models.Sequential([\n",
        "    layers.Conv2D(16, (3,3), activation='relu', input_shape=(32,32,3)),\n",
        "    layers.MaxPooling2D(2,2),\n",
        "    layers.Conv2D(32, (3,3), activation='relu'),\n",
        "    layers.MaxPooling2D(2,2),\n",
        "    layers.Flatten(),\n",
        "    layers.Dense(64, activation='relu'),\n",
        "    layers.Dense(1, activation='sigmoid')\n",
        "])\n",
        "\n",
        "model.compile(optimizer='adam', loss='binary_crossentropy', metrics=['accuracy'])\n",
        "\n",
        "# Train\n",
        "model.fit(x_train, y_train, epochs=5, validation_data=(x_test, y_test))\n",
        "\n",
        "# Evaluate\n",
        "loss, acc = model.evaluate(x_test, y_test)\n",
        "print(f\"Test Accuracy: {acc:.2f}\")\n"
      ]
    },
    {
      "cell_type": "code",
      "source": [
        "# Convert to TFLite\n",
        "converter = tf.lite.TFLiteConverter.from_keras_model(model)\n",
        "tflite_model = converter.convert()\n",
        "\n",
        "# Save the model\n",
        "with open(\"waste_classifier.tflite\", \"wb\") as f:\n",
        "    f.write(tflite_model)\n"
      ],
      "metadata": {
        "id": "TpC_B0bN8mWB"
      },
      "execution_count": null,
      "outputs": []
    },
    {
      "cell_type": "code",
      "source": [
        "from qiskit import QuantumCircuit, Aer, execute\n",
        "\n",
        "# Create a simple 2-qubit quantum circuit\n",
        "qc = QuantumCircuit(2)\n",
        "\n",
        "# Apply Hadamard gates to create superposition\n",
        "qc.h(0)\n",
        "qc.h(1)\n",
        "\n",
        "# Add entanglement\n",
        "qc.cx(0, 1)\n",
        "\n",
        "# Measure\n",
        "qc.measure_all()\n",
        "\n",
        "# Simulate\n",
        "simulator = Aer.get_backend('qasm_simulator')\n",
        "result = execute(qc, simulator, shots=1024).result()\n",
        "counts = result.get_counts()\n",
        "\n",
        "print(\"Measurement Results:\", counts)\n"
      ],
      "metadata": {
        "id": "MxxIpEDb8nVS"
      },
      "execution_count": null,
      "outputs": []
    }
  ]
}